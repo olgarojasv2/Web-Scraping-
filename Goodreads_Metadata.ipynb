{
 "cells": [
  {
   "cell_type": "code",
   "execution_count": 3,
   "id": "1709df49-919b-4436-8003-e093139c4024",
   "metadata": {},
   "outputs": [],
   "source": [
    "import pandas\n",
    "import pandas as pd"
   ]
  },
  {
   "cell_type": "code",
   "execution_count": 2,
   "id": "695d5023-d521-4a0e-8ed8-a69f17d86497",
   "metadata": {},
   "outputs": [],
   "source": [
    "import requests"
   ]
  },
  {
   "cell_type": "code",
   "execution_count": 4,
   "id": "f8146b97-0bc7-460f-ac69-035d0df2052e",
   "metadata": {},
   "outputs": [],
   "source": [
    "#Test of exporting metadata based on my goodreads\n",
    "urls = pd.read_csv(\"goodreads_library_export.csv\", delimiter='\\t', encoding='utf=8')"
   ]
  },
  {
   "cell_type": "code",
   "execution_count": 5,
   "id": "18696a22-8113-40c9-b720-2f9f48e29b78",
   "metadata": {},
   "outputs": [
    {
     "data": {
      "text/html": [
       "<div>\n",
       "<style scoped>\n",
       "    .dataframe tbody tr th:only-of-type {\n",
       "        vertical-align: middle;\n",
       "    }\n",
       "\n",
       "    .dataframe tbody tr th {\n",
       "        vertical-align: top;\n",
       "    }\n",
       "\n",
       "    .dataframe thead th {\n",
       "        text-align: right;\n",
       "    }\n",
       "</style>\n",
       "<table border=\"1\" class=\"dataframe\">\n",
       "  <thead>\n",
       "    <tr style=\"text-align: right;\">\n",
       "      <th></th>\n",
       "      <th>Book Id,Title,Author,Author l-f,Additional Authors,ISBN,ISBN13,My Rating,Average Rating,Publisher,Binding,Number of Pages,Year Published,Original Publication Year,Date Read,Date Added,Bookshelves,Bookshelves with positions,Exclusive Shelf,My Review,Spoiler,Private Notes,Read Count,Owned Copies</th>\n",
       "    </tr>\n",
       "  </thead>\n",
       "  <tbody>\n",
       "    <tr>\n",
       "      <th>0</th>\n",
       "      <td>43465812,The Book of X,Sarah Rose Etter,\"Etter...</td>\n",
       "    </tr>\n",
       "    <tr>\n",
       "      <th>1</th>\n",
       "      <td>164444179,First Lie Wins,Ashley Elston,\"Elston...</td>\n",
       "    </tr>\n",
       "    <tr>\n",
       "      <th>2</th>\n",
       "      <td>61246258,Pineapple Street,Jenny   Jackson,\"Jac...</td>\n",
       "    </tr>\n",
       "    <tr>\n",
       "      <th>3</th>\n",
       "      <td>96177642,Is It Ever Just Sex?,Darian Leader,\"L...</td>\n",
       "    </tr>\n",
       "    <tr>\n",
       "      <th>4</th>\n",
       "      <td>62898932,Penance,Eliza  Clark,\"Clark, Eliza\",,...</td>\n",
       "    </tr>\n",
       "    <tr>\n",
       "      <th>...</th>\n",
       "      <td>...</td>\n",
       "    </tr>\n",
       "    <tr>\n",
       "      <th>285</th>\n",
       "      <td>1420,Hamlet,William Shakespeare,\"Shakespeare, ...</td>\n",
       "    </tr>\n",
       "    <tr>\n",
       "      <th>286</th>\n",
       "      <td>12296,The Scarlet Letter,Nathaniel Hawthorne,\"...</td>\n",
       "    </tr>\n",
       "    <tr>\n",
       "      <th>287</th>\n",
       "      <td>14935,Sense and Sensibility,Jane Austen,\"Auste...</td>\n",
       "    </tr>\n",
       "    <tr>\n",
       "      <th>288</th>\n",
       "      <td>32620332,The Seven Husbands of Evelyn Hugo,Tay...</td>\n",
       "    </tr>\n",
       "    <tr>\n",
       "      <th>289</th>\n",
       "      <td>35031085,Frankenstein: The 1818 Text,Mary Woll...</td>\n",
       "    </tr>\n",
       "  </tbody>\n",
       "</table>\n",
       "<p>290 rows × 1 columns</p>\n",
       "</div>"
      ],
      "text/plain": [
       "    Book Id,Title,Author,Author l-f,Additional Authors,ISBN,ISBN13,My Rating,Average Rating,Publisher,Binding,Number of Pages,Year Published,Original Publication Year,Date Read,Date Added,Bookshelves,Bookshelves with positions,Exclusive Shelf,My Review,Spoiler,Private Notes,Read Count,Owned Copies\n",
       "0    43465812,The Book of X,Sarah Rose Etter,\"Etter...                                                                                                                                                                                                                                                    \n",
       "1    164444179,First Lie Wins,Ashley Elston,\"Elston...                                                                                                                                                                                                                                                    \n",
       "2    61246258,Pineapple Street,Jenny   Jackson,\"Jac...                                                                                                                                                                                                                                                    \n",
       "3    96177642,Is It Ever Just Sex?,Darian Leader,\"L...                                                                                                                                                                                                                                                    \n",
       "4    62898932,Penance,Eliza  Clark,\"Clark, Eliza\",,...                                                                                                                                                                                                                                                    \n",
       "..                                                 ...                                                                                                                                                                                                                                                    \n",
       "285  1420,Hamlet,William Shakespeare,\"Shakespeare, ...                                                                                                                                                                                                                                                    \n",
       "286  12296,The Scarlet Letter,Nathaniel Hawthorne,\"...                                                                                                                                                                                                                                                    \n",
       "287  14935,Sense and Sensibility,Jane Austen,\"Auste...                                                                                                                                                                                                                                                    \n",
       "288  32620332,The Seven Husbands of Evelyn Hugo,Tay...                                                                                                                                                                                                                                                    \n",
       "289  35031085,Frankenstein: The 1818 Text,Mary Woll...                                                                                                                                                                                                                                                    \n",
       "\n",
       "[290 rows x 1 columns]"
      ]
     },
     "execution_count": 5,
     "metadata": {},
     "output_type": "execute_result"
    }
   ],
   "source": [
    "urls"
   ]
  },
  {
   "cell_type": "code",
   "execution_count": 6,
   "id": "3ec2cd48-f2da-4b7e-bec4-d7b05dfa27ff",
   "metadata": {},
   "outputs": [
    {
     "name": "stdout",
     "output_type": "stream",
     "text": [
      "Index(['Book Id,Title,Author,Author l-f,Additional Authors,ISBN,ISBN13,My Rating,Average Rating,Publisher,Binding,Number of Pages,Year Published,Original Publication Year,Date Read,Date Added,Bookshelves,Bookshelves with positions,Exclusive Shelf,My Review,Spoiler,Private Notes,Read Count,Owned Copies'], dtype='object')\n"
     ]
    }
   ],
   "source": [
    "#check the columns of the csv file\n",
    "print(urls.columns)"
   ]
  }
 ],
 "metadata": {
  "kernelspec": {
   "display_name": "Python 3 (ipykernel)",
   "language": "python",
   "name": "python3"
  },
  "language_info": {
   "codemirror_mode": {
    "name": "ipython",
    "version": 3
   },
   "file_extension": ".py",
   "mimetype": "text/x-python",
   "name": "python",
   "nbconvert_exporter": "python",
   "pygments_lexer": "ipython3",
   "version": "3.12.7"
  }
 },
 "nbformat": 4,
 "nbformat_minor": 5
}
